{
 "cells": [
  {
   "cell_type": "code",
   "execution_count": 1,
   "metadata": {},
   "outputs": [],
   "source": [
    "import pandas as pd\n",
    "from sqlalchemy import create_engine\n",
    "from dotenv import load_dotenv\n",
    "import os\n",
    "\n",
    "load_dotenv(\"marc.env\") #Here goes the credentials for your Database\n",
    "                        #Use a .env with the structure below\n",
    "\n",
    "db_username = os.getenv(\"DB_USERNAME\")\n",
    "db_password = os.getenv(\"DB_PASSWORD\")\n",
    "db_host = os.getenv(\"DB_HOST\")\n",
    "db_port = os.getenv(\"DB_PORT\")\n",
    "db_name = os.getenv(\"DB_NAME\")\n",
    "\n",
    "engine = create_engine(f\"postgresql://{db_username}:{db_password}@{db_host}:{db_port}/{db_name}\")\n",
    "\n",
    "query = \"SELECT * FROM candidates_clean\"\n",
    "\n",
    "df = pd.read_sql_query(query, engine)"
   ]
  },
  {
   "cell_type": "code",
   "execution_count": 2,
   "metadata": {},
   "outputs": [
    {
     "data": {
      "text/plain": [
       "<bound method NDFrame.head of        First Name   Last Name                       Email Application Date  \\\n",
       "0      Bernadette   Langworth         leonard91@yahoo.com       2021-02-26   \n",
       "1          Camryn    Reynolds         zelda56@hotmail.com       2021-09-09   \n",
       "2           Larue      Spinka    okey_schultz41@gmail.com       2020-04-14   \n",
       "3            Arch      Spinka      elvera_kulas@yahoo.com       2020-10-01   \n",
       "4           Larue  Altenwerth   minnie.gislason@gmail.com       2020-05-20   \n",
       "...           ...         ...                         ...              ...   \n",
       "49995     Bethany     Shields  rocky_mitchell@hotmail.com       2022-01-09   \n",
       "49996         Era  Swaniawski    dolores.roob@hotmail.com       2020-06-02   \n",
       "49997      Martin       Lakin   savanah.stracke@gmail.com       2018-12-15   \n",
       "49998       Aliya   Abernathy  vivienne.fritsch@yahoo.com       2020-05-30   \n",
       "49999     Coleman      Wisozk   abigayle.crooks@yahoo.com       2022-06-13   \n",
       "\n",
       "                  Country  YOE  Seniority                         Technology  \\\n",
       "0                  Norway    2     Intern                      Data Engineer   \n",
       "1                  Panama   10     Intern                      Data Engineer   \n",
       "2                 Belarus    4  Mid-Level                     Client Success   \n",
       "3                 Eritrea   25    Trainee                          QA Manual   \n",
       "4                 Myanmar   13  Mid-Level  Social Media Community Management   \n",
       "...                   ...  ...        ...                                ...   \n",
       "49995  Dominican Republic   27    Trainee                           Security   \n",
       "49996             Morocco   21       Lead                   Game Development   \n",
       "49997              Uganda   20    Trainee              System Administration   \n",
       "49998      Czech Republic   20     Senior            Database Administration   \n",
       "49999               Palau   15     Intern                           Mulesoft   \n",
       "\n",
       "       Code Challenge Score  Technical Interview Score  \n",
       "0                         3                          3  \n",
       "1                         2                         10  \n",
       "2                        10                          9  \n",
       "3                         7                          1  \n",
       "4                         9                          7  \n",
       "...                     ...                        ...  \n",
       "49995                     2                          1  \n",
       "49996                     1                          2  \n",
       "49997                     6                          1  \n",
       "49998                     0                          0  \n",
       "49999                     3                          1  \n",
       "\n",
       "[50000 rows x 10 columns]>"
      ]
     },
     "execution_count": 2,
     "metadata": {},
     "output_type": "execute_result"
    }
   ],
   "source": [
    "df.head"
   ]
  },
  {
   "cell_type": "code",
   "execution_count": 3,
   "metadata": {},
   "outputs": [
    {
     "name": "stdout",
     "output_type": "stream",
     "text": [
      "<class 'pandas.core.frame.DataFrame'>\n",
      "RangeIndex: 50000 entries, 0 to 49999\n",
      "Data columns (total 10 columns):\n",
      " #   Column                     Non-Null Count  Dtype \n",
      "---  ------                     --------------  ----- \n",
      " 0   First Name                 50000 non-null  object\n",
      " 1   Last Name                  50000 non-null  object\n",
      " 2   Email                      50000 non-null  object\n",
      " 3   Application Date           50000 non-null  object\n",
      " 4   Country                    50000 non-null  object\n",
      " 5   YOE                        50000 non-null  int64 \n",
      " 6   Seniority                  50000 non-null  object\n",
      " 7   Technology                 50000 non-null  object\n",
      " 8   Code Challenge Score       50000 non-null  int64 \n",
      " 9   Technical Interview Score  50000 non-null  int64 \n",
      "dtypes: int64(3), object(7)\n",
      "memory usage: 3.8+ MB\n",
      "None\n"
     ]
    }
   ],
   "source": [
    "print(df.info())"
   ]
  },
  {
   "cell_type": "markdown",
   "metadata": {},
   "source": [
    "EDA"
   ]
  },
  {
   "cell_type": "markdown",
   "metadata": {},
   "source": [
    "Hired\n",
    "\n",
    "We need to create a column that determinates if the candidate was hired. According to the challenge, a candidate is hired when he has both scores greater than or equal to 7."
   ]
  },
  {
   "cell_type": "code",
   "execution_count": 4,
   "metadata": {},
   "outputs": [
    {
     "name": "stdout",
     "output_type": "stream",
     "text": [
      "<class 'pandas.core.frame.DataFrame'>\n",
      "RangeIndex: 50000 entries, 0 to 49999\n",
      "Data columns (total 11 columns):\n",
      " #   Column                     Non-Null Count  Dtype \n",
      "---  ------                     --------------  ----- \n",
      " 0   First Name                 50000 non-null  object\n",
      " 1   Last Name                  50000 non-null  object\n",
      " 2   Email                      50000 non-null  object\n",
      " 3   Application Date           50000 non-null  object\n",
      " 4   Country                    50000 non-null  object\n",
      " 5   YOE                        50000 non-null  int64 \n",
      " 6   Seniority                  50000 non-null  object\n",
      " 7   Technology                 50000 non-null  object\n",
      " 8   Code Challenge Score       50000 non-null  int64 \n",
      " 9   Technical Interview Score  50000 non-null  int64 \n",
      " 10  Hired                      50000 non-null  bool  \n",
      "dtypes: bool(1), int64(3), object(7)\n",
      "memory usage: 3.9+ MB\n",
      "None\n"
     ]
    }
   ],
   "source": [
    "def is_hired(row):\n",
    "    if row[\"Code Challenge Score\"] >= 7 and row[\"Technical Interview Score\"] >= 7:\n",
    "        return True\n",
    "    elif row[\"Code Challenge Score\"] < 7 and row[\"Technical Interview Score\"] < 7:\n",
    "        return False\n",
    "    else:\n",
    "        return False\n",
    "\n",
    "\n",
    "df[\"Hired\"] = df.apply(is_hired, axis=1)\n",
    "\n",
    "print(df.info()) #The new column is bool, this is because data with only two unique values (Yes/No, Used/New, etc.) \n",
    "                 #can be better stored as boolean, it improves performance and reduces storage requirements"
   ]
  },
  {
   "cell_type": "markdown",
   "metadata": {},
   "source": [
    "Variable description\n",
    "Lets see more info about the variables according to their type"
   ]
  },
  {
   "cell_type": "code",
   "execution_count": 5,
   "metadata": {},
   "outputs": [
    {
     "data": {
      "text/html": [
       "<div>\n",
       "<style scoped>\n",
       "    .dataframe tbody tr th:only-of-type {\n",
       "        vertical-align: middle;\n",
       "    }\n",
       "\n",
       "    .dataframe tbody tr th {\n",
       "        vertical-align: top;\n",
       "    }\n",
       "\n",
       "    .dataframe thead th {\n",
       "        text-align: right;\n",
       "    }\n",
       "</style>\n",
       "<table border=\"1\" class=\"dataframe\">\n",
       "  <thead>\n",
       "    <tr style=\"text-align: right;\">\n",
       "      <th></th>\n",
       "      <th>YOE</th>\n",
       "      <th>Code Challenge Score</th>\n",
       "      <th>Technical Interview Score</th>\n",
       "    </tr>\n",
       "  </thead>\n",
       "  <tbody>\n",
       "    <tr>\n",
       "      <th>count</th>\n",
       "      <td>50000.000000</td>\n",
       "      <td>50000.000000</td>\n",
       "      <td>50000.000000</td>\n",
       "    </tr>\n",
       "    <tr>\n",
       "      <th>mean</th>\n",
       "      <td>15.286980</td>\n",
       "      <td>4.996400</td>\n",
       "      <td>5.003880</td>\n",
       "    </tr>\n",
       "    <tr>\n",
       "      <th>std</th>\n",
       "      <td>8.830652</td>\n",
       "      <td>3.166896</td>\n",
       "      <td>3.165082</td>\n",
       "    </tr>\n",
       "    <tr>\n",
       "      <th>min</th>\n",
       "      <td>0.000000</td>\n",
       "      <td>0.000000</td>\n",
       "      <td>0.000000</td>\n",
       "    </tr>\n",
       "    <tr>\n",
       "      <th>25%</th>\n",
       "      <td>8.000000</td>\n",
       "      <td>2.000000</td>\n",
       "      <td>2.000000</td>\n",
       "    </tr>\n",
       "    <tr>\n",
       "      <th>50%</th>\n",
       "      <td>15.000000</td>\n",
       "      <td>5.000000</td>\n",
       "      <td>5.000000</td>\n",
       "    </tr>\n",
       "    <tr>\n",
       "      <th>75%</th>\n",
       "      <td>23.000000</td>\n",
       "      <td>8.000000</td>\n",
       "      <td>8.000000</td>\n",
       "    </tr>\n",
       "    <tr>\n",
       "      <th>max</th>\n",
       "      <td>30.000000</td>\n",
       "      <td>10.000000</td>\n",
       "      <td>10.000000</td>\n",
       "    </tr>\n",
       "  </tbody>\n",
       "</table>\n",
       "</div>"
      ],
      "text/plain": [
       "                YOE  Code Challenge Score  Technical Interview Score\n",
       "count  50000.000000          50000.000000               50000.000000\n",
       "mean      15.286980              4.996400                   5.003880\n",
       "std        8.830652              3.166896                   3.165082\n",
       "min        0.000000              0.000000                   0.000000\n",
       "25%        8.000000              2.000000                   2.000000\n",
       "50%       15.000000              5.000000                   5.000000\n",
       "75%       23.000000              8.000000                   8.000000\n",
       "max       30.000000             10.000000                  10.000000"
      ]
     },
     "execution_count": 5,
     "metadata": {},
     "output_type": "execute_result"
    }
   ],
   "source": [
    "#numerical\n",
    "numerical_summary = df.describe()\n",
    "numerical_summary"
   ]
  },
  {
   "cell_type": "code",
   "execution_count": 6,
   "metadata": {},
   "outputs": [
    {
     "data": {
      "text/html": [
       "<div>\n",
       "<style scoped>\n",
       "    .dataframe tbody tr th:only-of-type {\n",
       "        vertical-align: middle;\n",
       "    }\n",
       "\n",
       "    .dataframe tbody tr th {\n",
       "        vertical-align: top;\n",
       "    }\n",
       "\n",
       "    .dataframe thead th {\n",
       "        text-align: right;\n",
       "    }\n",
       "</style>\n",
       "<table border=\"1\" class=\"dataframe\">\n",
       "  <thead>\n",
       "    <tr style=\"text-align: right;\">\n",
       "      <th></th>\n",
       "      <th>First Name</th>\n",
       "      <th>Last Name</th>\n",
       "      <th>Email</th>\n",
       "      <th>Application Date</th>\n",
       "      <th>Country</th>\n",
       "      <th>Seniority</th>\n",
       "      <th>Technology</th>\n",
       "      <th>Hired</th>\n",
       "    </tr>\n",
       "  </thead>\n",
       "  <tbody>\n",
       "    <tr>\n",
       "      <th>count</th>\n",
       "      <td>50000</td>\n",
       "      <td>50000</td>\n",
       "      <td>50000</td>\n",
       "      <td>50000</td>\n",
       "      <td>50000</td>\n",
       "      <td>50000</td>\n",
       "      <td>50000</td>\n",
       "      <td>50000</td>\n",
       "    </tr>\n",
       "    <tr>\n",
       "      <th>unique</th>\n",
       "      <td>3007</td>\n",
       "      <td>474</td>\n",
       "      <td>49833</td>\n",
       "      <td>1646</td>\n",
       "      <td>244</td>\n",
       "      <td>7</td>\n",
       "      <td>24</td>\n",
       "      <td>2</td>\n",
       "    </tr>\n",
       "    <tr>\n",
       "      <th>top</th>\n",
       "      <td>Sarai</td>\n",
       "      <td>Murazik</td>\n",
       "      <td>marianne31@yahoo.com</td>\n",
       "      <td>2020-07-07</td>\n",
       "      <td>Malawi</td>\n",
       "      <td>Intern</td>\n",
       "      <td>Game Development</td>\n",
       "      <td>False</td>\n",
       "    </tr>\n",
       "    <tr>\n",
       "      <th>freq</th>\n",
       "      <td>33</td>\n",
       "      <td>138</td>\n",
       "      <td>3</td>\n",
       "      <td>50</td>\n",
       "      <td>242</td>\n",
       "      <td>7255</td>\n",
       "      <td>3818</td>\n",
       "      <td>43302</td>\n",
       "    </tr>\n",
       "  </tbody>\n",
       "</table>\n",
       "</div>"
      ],
      "text/plain": [
       "       First Name Last Name                 Email Application Date Country  \\\n",
       "count       50000     50000                 50000            50000   50000   \n",
       "unique       3007       474                 49833             1646     244   \n",
       "top         Sarai   Murazik  marianne31@yahoo.com       2020-07-07  Malawi   \n",
       "freq           33       138                     3               50     242   \n",
       "\n",
       "       Seniority        Technology  Hired  \n",
       "count      50000             50000  50000  \n",
       "unique         7                24      2  \n",
       "top       Intern  Game Development  False  \n",
       "freq        7255              3818  43302  "
      ]
     },
     "execution_count": 6,
     "metadata": {},
     "output_type": "execute_result"
    }
   ],
   "source": [
    "#categorical (Object and bool)\n",
    "categorical_summary = df.describe(include=['object','bool'])\n",
    "categorical_summary"
   ]
  },
  {
   "cell_type": "markdown",
   "metadata": {},
   "source": [
    "Cleaning\n",
    "Searching for posible cleaning process, lets check Email who could be a option for candidates id."
   ]
  },
  {
   "cell_type": "code",
   "execution_count": 16,
   "metadata": {},
   "outputs": [
    {
     "name": "stdout",
     "output_type": "stream",
     "text": [
      "Email\n",
      "marianne31@yahoo.com          3\n",
      "fern70@gmail.com              3\n",
      "isaiah24@yahoo.com            2\n",
      "missouri65@yahoo.com          2\n",
      "kelton91@hotmail.com          2\n",
      "                             ..\n",
      "rocky_mitchell@hotmail.com    1\n",
      "dolores.roob@hotmail.com      1\n",
      "savanah.stracke@gmail.com     1\n",
      "vivienne.fritsch@yahoo.com    1\n",
      "abigayle.crooks@yahoo.com     1\n",
      "Name: count, Length: 49833, dtype: Int64\n"
     ]
    }
   ],
   "source": [
    "print(df['Email'].value_counts())"
   ]
  },
  {
   "cell_type": "code",
   "execution_count": 18,
   "metadata": {},
   "outputs": [
    {
     "name": "stdout",
     "output_type": "stream",
     "text": [
      "      First Name Last Name                 Email Application Date    Country  \\\n",
      "3927     Arielle    Harris  marianne31@yahoo.com       2021-05-04    Morocco   \n",
      "19463   Tristian   Quitzon  marianne31@yahoo.com       2021-04-13      Niger   \n",
      "30935        Tod   Kuhlman  marianne31@yahoo.com       2019-11-17  Gibraltar   \n",
      "\n",
      "       YOE  Seniority                         Technology  \\\n",
      "3927    29       Lead                Security Compliance   \n",
      "19463   13       Lead                Security Compliance   \n",
      "30935   11  Architect  Social Media Community Management   \n",
      "\n",
      "       Code Challenge Score  Technical Interview Score  Hired  \\\n",
      "3927                      2                          1  False   \n",
      "19463                     1                          7  False   \n",
      "30935                     2                          2  False   \n",
      "\n",
      "                     Technology Grouped  \n",
      "3927   Systems & Network Administration  \n",
      "19463  Systems & Network Administration  \n",
      "30935                Marketing & Design  \n"
     ]
    }
   ],
   "source": [
    "#Lets check with one of the duplicated Emails\n",
    "print(df[df['Email']=='marianne31@yahoo.com'])"
   ]
  },
  {
   "cell_type": "markdown",
   "metadata": {},
   "source": [
    "The cleaning of Email is discarded, multiple candidates can use same Email to applicate"
   ]
  },
  {
   "cell_type": "markdown",
   "metadata": {},
   "source": [
    "Technology Group"
   ]
  },
  {
   "cell_type": "code",
   "execution_count": 7,
   "metadata": {},
   "outputs": [
    {
     "data": {
      "text/plain": [
       "array(['Data Engineer', 'Client Success', 'QA Manual',\n",
       "       'Social Media Community Management', 'Adobe Experience Manager',\n",
       "       'Sales', 'Mulesoft', 'DevOps', 'Development - CMS Backend',\n",
       "       'Salesforce', 'System Administration', 'Security',\n",
       "       'Game Development', 'Development - CMS Frontend',\n",
       "       'Security Compliance', 'Development - Backend', 'Design',\n",
       "       'Business Analytics / Project Management',\n",
       "       'Development - Frontend', 'Development - FullStack',\n",
       "       'Business Intelligence', 'Database Administration',\n",
       "       'QA Automation', 'Technical Writing'], dtype=object)"
      ]
     },
     "execution_count": 7,
     "metadata": {},
     "output_type": "execute_result"
    }
   ],
   "source": [
    "df[\"Technology\"].unique()"
   ]
  },
  {
   "cell_type": "markdown",
   "metadata": {},
   "source": [
    "The technologies can be grouped, looking for their similarities, this can help the visualization, mostly in the required pie chart"
   ]
  },
  {
   "cell_type": "code",
   "execution_count": 8,
   "metadata": {},
   "outputs": [],
   "source": [
    "df[\"Technology Grouped\"] = df[\"Technology\"] #We dont replace directly in Technology column, that data can be usefull in a future"
   ]
  },
  {
   "cell_type": "code",
   "execution_count": 9,
   "metadata": {},
   "outputs": [
    {
     "name": "stderr",
     "output_type": "stream",
     "text": [
      "C:\\Users\\Usuario\\AppData\\Local\\Temp\\ipykernel_4672\\2200183378.py:1: FutureWarning: A value is trying to be set on a copy of a DataFrame or Series through chained assignment using an inplace method.\n",
      "The behavior will change in pandas 3.0. This inplace method will never work because the intermediate object on which we are setting values always behaves as a copy.\n",
      "\n",
      "For example, when doing 'df[col].method(value, inplace=True)', try using 'df.method({col: value}, inplace=True)' or df[col] = df[col].method(value) instead, to perform the operation inplace on the original object.\n",
      "\n",
      "\n",
      "  df['Technology Grouped'].replace({\n"
     ]
    },
    {
     "name": "stdout",
     "output_type": "stream",
     "text": [
      "Technology Grouped\n",
      "Development                         13447\n",
      "Systems & Network Administration    11583\n",
      "Marketing & Design                   7789\n",
      "Business & Sales                     7569\n",
      "Data Engineering                     5818\n",
      "Quality Assurance                    3794\n",
      "Name: count, dtype: int64\n"
     ]
    }
   ],
   "source": [
    "df['Technology Grouped'].replace({\n",
    "    'Development - Backend': 'Development',\n",
    "    'Development - Frontend': 'Development',\n",
    "    'Development - FullStack': 'Development',\n",
    "    'Development - CMS Backend': 'Development',\n",
    "    'Development - CMS Frontend': 'Development',\n",
    "    'Game Development': 'Development',\n",
    "    'QA Manual': 'Quality Assurance',\n",
    "    'QA Automation': 'Quality Assurance',\n",
    "    'Data Engineer': 'Data Engineering',\n",
    "    'Business Intelligence': 'Data Engineering',\n",
    "    'Database Administration': 'Data Engineering',\n",
    "    'System Administration': 'Systems & Network Administration',\n",
    "    'Security': 'Systems & Network Administration',\n",
    "    'Security Compliance': 'Systems & Network Administration',\n",
    "    'Sales': 'Business & Sales',\n",
    "    'Client Success': 'Business & Sales',\n",
    "    'Business Analytics / Project Management': 'Business & Sales',\n",
    "    'Social Media Community Management': 'Marketing & Design',\n",
    "    'Design': 'Marketing & Design',\n",
    "    'Adobe Experience Manager': 'Marketing & Design',\n",
    "    'Mulesoft': 'Systems & Network Administration',\n",
    "    'Salesforce': 'Business & Sales',\n",
    "    'DevOps': 'Systems & Network Administration',\n",
    "    'Technical Writing': 'Marketing & Design'\n",
    "}, inplace=True)\n",
    "\n",
    "print(df['Technology Grouped'].value_counts())"
   ]
  },
  {
   "cell_type": "markdown",
   "metadata": {},
   "source": [
    "Object to string\n",
    "\n",
    "Some columns are objects and can be changed to string to improve performance and reduce storage requirements"
   ]
  },
  {
   "cell_type": "code",
   "execution_count": 12,
   "metadata": {},
   "outputs": [
    {
     "name": "stdout",
     "output_type": "stream",
     "text": [
      "First Name                   string[python]\n",
      "Last Name                    string[python]\n",
      "Email                        string[python]\n",
      "Application Date                     object\n",
      "Country                      string[python]\n",
      "YOE                                   int64\n",
      "Seniority                    string[python]\n",
      "Technology                   string[python]\n",
      "Code Challenge Score                  int64\n",
      "Technical Interview Score             int64\n",
      "Hired                                  bool\n",
      "Technology Grouped           string[python]\n",
      "dtype: object\n"
     ]
    }
   ],
   "source": [
    "print(df.dtypes) #This code can be executed after and before the transformation to see the change"
   ]
  },
  {
   "cell_type": "code",
   "execution_count": 11,
   "metadata": {},
   "outputs": [],
   "source": [
    "df['First Name'] = df['First Name'].astype('string')\n",
    "df['Last Name'] = df['Last Name'].astype('string')\n",
    "df['Email'] = df['Email'].astype('string')\n",
    "df['Country'] = df['Country'].astype('string')\n",
    "df['Seniority'] = df['Seniority'].astype('string')\n",
    "df['Technology'] = df['Technology'].astype('string')\n",
    "df['Technology Grouped'] = df['Technology Grouped'].astype('string')"
   ]
  },
  {
   "cell_type": "markdown",
   "metadata": {},
   "source": [
    "Date format\n",
    "\n",
    "Date is also an object, lets change it to datetime format"
   ]
  },
  {
   "cell_type": "code",
   "execution_count": 13,
   "metadata": {},
   "outputs": [],
   "source": [
    "df['Application Date'] = pd.to_datetime(df['Application Date'], format='%Y-%m-%d')"
   ]
  },
  {
   "cell_type": "markdown",
   "metadata": {},
   "source": [
    "Correlation"
   ]
  },
  {
   "cell_type": "code",
   "execution_count": 14,
   "metadata": {},
   "outputs": [
    {
     "data": {
      "text/html": [
       "<div>\n",
       "<style scoped>\n",
       "    .dataframe tbody tr th:only-of-type {\n",
       "        vertical-align: middle;\n",
       "    }\n",
       "\n",
       "    .dataframe tbody tr th {\n",
       "        vertical-align: top;\n",
       "    }\n",
       "\n",
       "    .dataframe thead th {\n",
       "        text-align: right;\n",
       "    }\n",
       "</style>\n",
       "<table border=\"1\" class=\"dataframe\">\n",
       "  <thead>\n",
       "    <tr style=\"text-align: right;\">\n",
       "      <th></th>\n",
       "      <th>YOE</th>\n",
       "      <th>Code Challenge Score</th>\n",
       "      <th>Technical Interview Score</th>\n",
       "      <th>Hired</th>\n",
       "    </tr>\n",
       "  </thead>\n",
       "  <tbody>\n",
       "    <tr>\n",
       "      <th>YOE</th>\n",
       "      <td>1.000000</td>\n",
       "      <td>0.005871</td>\n",
       "      <td>-0.005878</td>\n",
       "      <td>0.000192</td>\n",
       "    </tr>\n",
       "    <tr>\n",
       "      <th>Code Challenge Score</th>\n",
       "      <td>0.005871</td>\n",
       "      <td>1.000000</td>\n",
       "      <td>-0.002373</td>\n",
       "      <td>0.435115</td>\n",
       "    </tr>\n",
       "    <tr>\n",
       "      <th>Technical Interview Score</th>\n",
       "      <td>-0.005878</td>\n",
       "      <td>-0.002373</td>\n",
       "      <td>1.000000</td>\n",
       "      <td>0.431856</td>\n",
       "    </tr>\n",
       "    <tr>\n",
       "      <th>Hired</th>\n",
       "      <td>0.000192</td>\n",
       "      <td>0.435115</td>\n",
       "      <td>0.431856</td>\n",
       "      <td>1.000000</td>\n",
       "    </tr>\n",
       "  </tbody>\n",
       "</table>\n",
       "</div>"
      ],
      "text/plain": [
       "                                YOE  Code Challenge Score  \\\n",
       "YOE                        1.000000              0.005871   \n",
       "Code Challenge Score       0.005871              1.000000   \n",
       "Technical Interview Score -0.005878             -0.002373   \n",
       "Hired                      0.000192              0.435115   \n",
       "\n",
       "                           Technical Interview Score     Hired  \n",
       "YOE                                        -0.005878  0.000192  \n",
       "Code Challenge Score                       -0.002373  0.435115  \n",
       "Technical Interview Score                   1.000000  0.431856  \n",
       "Hired                                       0.431856  1.000000  "
      ]
     },
     "execution_count": 14,
     "metadata": {},
     "output_type": "execute_result"
    }
   ],
   "source": [
    "colmns_select = [\"YOE\",\"Code Challenge Score\", \"Technical Interview Score\", \"Hired\"] #Numerical and Hired (Bool). The high ammount of categorical unique values would make the correlation really big\n",
    "df_corr = df[colmns_select]\n",
    "\n",
    "\n",
    "correlation = df_corr.corr()\n",
    "\n",
    "correlation"
   ]
  },
  {
   "cell_type": "markdown",
   "metadata": {},
   "source": [
    "There is no strong correlation between the numerical columns. The two biggest value (0.43 approximately) are between Hired and Scores (Code Challenge and Tech Interview), this correlation isnt significant, and can it could be due to the fact that Hired is created based on the scores columns values."
   ]
  },
  {
   "cell_type": "markdown",
   "metadata": {},
   "source": [
    "Saving the cleaned dataframe"
   ]
  },
  {
   "cell_type": "code",
   "execution_count": 15,
   "metadata": {},
   "outputs": [],
   "source": [
    "df.to_csv('data/candidates_clean.csv', index=False)"
   ]
  },
  {
   "cell_type": "markdown",
   "metadata": {},
   "source": [
    "Migration to BD\n",
    "\n",
    "it replaces the raw df to the cleaned version we get in this jupyternotebook in the BD"
   ]
  },
  {
   "cell_type": "code",
   "execution_count": 19,
   "metadata": {},
   "outputs": [
    {
     "name": "stdout",
     "output_type": "stream",
     "text": [
      "Succesfull migration\n"
     ]
    }
   ],
   "source": [
    "#This is very similar to migration code, just with a little changes\n",
    "file_path = \"data/candidates_clean.csv\"  \n",
    "candidates = pd.read_csv(file_path, delimiter=',') #In the clean csv the delimitier is , and not ;\n",
    "\n",
    "engine = create_engine(f\"postgresql://{db_username}:{db_password}@{db_host}:{db_port}/{db_name}\")\n",
    "\n",
    "try:\n",
    "    candidates.to_sql(\"candidates_clean\", engine, if_exists=\"replace\", index=False)\n",
    "    print(\"Succesfull migration\")\n",
    "except Exception as e:\n",
    "    print(f\"Error in migration: {e}\")"
   ]
  }
 ],
 "metadata": {
  "kernelspec": {
   "display_name": "venv",
   "language": "python",
   "name": "python3"
  },
  "language_info": {
   "codemirror_mode": {
    "name": "ipython",
    "version": 3
   },
   "file_extension": ".py",
   "mimetype": "text/x-python",
   "name": "python",
   "nbconvert_exporter": "python",
   "pygments_lexer": "ipython3",
   "version": "3.12.5"
  }
 },
 "nbformat": 4,
 "nbformat_minor": 2
}
